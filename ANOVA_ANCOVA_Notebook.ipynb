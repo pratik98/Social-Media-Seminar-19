{
  "nbformat": 4,
  "nbformat_minor": 0,
  "metadata": {
    "colab": {
      "name": "ANOVA_ANCOVA_Notebook.ipynb",
      "provenance": [],
      "collapsed_sections": [],
      "include_colab_link": true
    },
    "kernelspec": {
      "name": "python3",
      "display_name": "Python 3"
    }
  },
  "cells": [
    {
      "cell_type": "markdown",
      "metadata": {
        "id": "view-in-github",
        "colab_type": "text"
      },
      "source": [
        "<a href=\"https://colab.research.google.com/github/pratik98/Social-Media-Seminar-19/blob/master/ANOVA_ANCOVA_Notebook.ipynb\" target=\"_parent\"><img src=\"https://colab.research.google.com/assets/colab-badge.svg\" alt=\"Open In Colab\"/></a>"
      ]
    },
    {
      "cell_type": "markdown",
      "metadata": {
        "id": "0XZ1YpqF7kfB",
        "colab_type": "text"
      },
      "source": [
        "# Data retrieval"
      ]
    },
    {
      "cell_type": "markdown",
      "metadata": {
        "id": "Ed43TTbcCFeB",
        "colab_type": "text"
      },
      "source": [
        "Execute the following code to get the data"
      ]
    },
    {
      "cell_type": "code",
      "metadata": {
        "id": "VAz3TlSk8QgF",
        "colab_type": "code",
        "outputId": "ffc317a0-c5f9-46a6-b984-219d8be18e3d",
        "colab": {
          "base_uri": "https://localhost:8080/",
          "height": 204
        }
      },
      "source": [
        "import json\n",
        "import requests\n",
        "import pandas as pd\n",
        "import matplotlib.pyplot as plt \n",
        "import seaborn as sns\n",
        "import statsmodels.api as sm\n",
        "from statsmodels.formula.api import ols\n",
        "import numpy as np\n",
        "import scipy.stats as stats\n",
        "\n",
        "\n",
        "response = requests.get(\"https://www.soscisurvey.de/adssurvey/?act=PDNNieOgNBRaJj1Y8ZGv922P\")\n",
        "\n",
        "#Likert scale values\n",
        "STRONGLY_DISAGREE = 1\n",
        "DISAGREE = 2\n",
        "NEUTRAL = 3\n",
        "AGREE = 4\n",
        "STRONGLY_AGREE = 5\n",
        "#Mistakes conditions\n",
        "NO_MISTAKES = 1\n",
        "TYPOS = 2\n",
        "GRAMMOS = 3\n",
        "#Knwledge on given social network\n",
        "IGNORES_SOCIAL_NET = 4\n",
        "\n",
        "def jprint(obj):\n",
        "    # create a formatted string of the Python JSON object\n",
        "    text = json.dumps(obj, sort_keys=True, indent=4)\n",
        "    print(text)\n",
        "\n",
        "keys_dict = {   'AC01':'att_check' #\"1\": \"strongly disagree\", \"5\": \"strongly agree\"\n",
        "              , 'DQ01':'age'\n",
        "              , 'DQ02':'gender'\n",
        "              , 'DQ03_01':'grammar_importance'\n",
        "              , 'DQ04':'education'\n",
        "              , 'DQ05':'native_lang'\n",
        "              , 'DV01_02':'intelligence'\n",
        "              , 'IV01':'mistakes' #\"1\": \"No Mistakes\",\"2\": \"Typos\", \"3\": \"Grammos\"\n",
        "              , 'IV02':'social_net'\n",
        "              , 'MC01_02':'manip_check'\n",
        "              , 'MC02':'sn_knowledge' #\"4\": \"I have no idea about it\"\n",
        "            }\n",
        "\n",
        "all_data = pd.DataFrame(response.json()['data']).transpose()\n",
        "filtered_data = all_data.filter(all_data.filter(items = keys_dict.keys()).columns, axis = 1)\n",
        "filtered_data.rename(columns = keys_dict, inplace=True)\n",
        "\n",
        "#response = requests.get(\"https://www.soscisurvey.de/adssurvey/?act=PDNNieOgNBRaJj1Y8ZGv922P&cases=none&infoValues\")\n",
        "#jprint(response.json())\n",
        "#print(\" --- All columns' explanation above ---\")\n",
        "\n",
        "filtered_data.reset_index(drop = True, inplace = True)\n",
        "filtered_data['intelligence'] = filtered_data['intelligence'].astype(float)\n",
        "filtered_data.sample(5)"
      ],
      "execution_count": 0,
      "outputs": [
        {
          "output_type": "execute_result",
          "data": {
            "text/html": [
              "<div>\n",
              "<style scoped>\n",
              "    .dataframe tbody tr th:only-of-type {\n",
              "        vertical-align: middle;\n",
              "    }\n",
              "\n",
              "    .dataframe tbody tr th {\n",
              "        vertical-align: top;\n",
              "    }\n",
              "\n",
              "    .dataframe thead th {\n",
              "        text-align: right;\n",
              "    }\n",
              "</style>\n",
              "<table border=\"1\" class=\"dataframe\">\n",
              "  <thead>\n",
              "    <tr style=\"text-align: right;\">\n",
              "      <th></th>\n",
              "      <th>att_check</th>\n",
              "      <th>age</th>\n",
              "      <th>gender</th>\n",
              "      <th>grammar_importance</th>\n",
              "      <th>education</th>\n",
              "      <th>native_lang</th>\n",
              "      <th>intelligence</th>\n",
              "      <th>mistakes</th>\n",
              "      <th>social_net</th>\n",
              "      <th>manip_check</th>\n",
              "      <th>sn_knowledge</th>\n",
              "    </tr>\n",
              "  </thead>\n",
              "  <tbody>\n",
              "    <tr>\n",
              "      <th>32</th>\n",
              "      <td>2</td>\n",
              "      <td>6</td>\n",
              "      <td>1</td>\n",
              "      <td>4</td>\n",
              "      <td>5</td>\n",
              "      <td>2</td>\n",
              "      <td>1.0</td>\n",
              "      <td>3</td>\n",
              "      <td>2</td>\n",
              "      <td>5</td>\n",
              "      <td>3</td>\n",
              "    </tr>\n",
              "    <tr>\n",
              "      <th>46</th>\n",
              "      <td>2</td>\n",
              "      <td>3</td>\n",
              "      <td>1</td>\n",
              "      <td>4</td>\n",
              "      <td>1</td>\n",
              "      <td>2</td>\n",
              "      <td>5.0</td>\n",
              "      <td>2</td>\n",
              "      <td>2</td>\n",
              "      <td>2</td>\n",
              "      <td>3</td>\n",
              "    </tr>\n",
              "    <tr>\n",
              "      <th>96</th>\n",
              "      <td>1</td>\n",
              "      <td>4</td>\n",
              "      <td>1</td>\n",
              "      <td>5</td>\n",
              "      <td>4</td>\n",
              "      <td>1</td>\n",
              "      <td>1.0</td>\n",
              "      <td>3</td>\n",
              "      <td>1</td>\n",
              "      <td>5</td>\n",
              "      <td>1</td>\n",
              "    </tr>\n",
              "    <tr>\n",
              "      <th>34</th>\n",
              "      <td>2</td>\n",
              "      <td>3</td>\n",
              "      <td>2</td>\n",
              "      <td>5</td>\n",
              "      <td>2</td>\n",
              "      <td>2</td>\n",
              "      <td>3.0</td>\n",
              "      <td>2</td>\n",
              "      <td>2</td>\n",
              "      <td>5</td>\n",
              "      <td>4</td>\n",
              "    </tr>\n",
              "    <tr>\n",
              "      <th>94</th>\n",
              "      <td>1</td>\n",
              "      <td>4</td>\n",
              "      <td>1</td>\n",
              "      <td>4</td>\n",
              "      <td>5</td>\n",
              "      <td>1</td>\n",
              "      <td>1.0</td>\n",
              "      <td>3</td>\n",
              "      <td>1</td>\n",
              "      <td>5</td>\n",
              "      <td>2</td>\n",
              "    </tr>\n",
              "  </tbody>\n",
              "</table>\n",
              "</div>"
            ],
            "text/plain": [
              "   att_check age gender  ... social_net manip_check sn_knowledge\n",
              "32         2   6      1  ...          2           5            3\n",
              "46         2   3      1  ...          2           2            3\n",
              "96         1   4      1  ...          1           5            1\n",
              "34         2   3      2  ...          2           5            4\n",
              "94         1   4      1  ...          1           5            2\n",
              "\n",
              "[5 rows x 11 columns]"
            ]
          },
          "metadata": {
            "tags": []
          },
          "execution_count": 1
        }
      ]
    },
    {
      "cell_type": "markdown",
      "metadata": {
        "id": "1WJIHV0c8Xx0",
        "colab_type": "text"
      },
      "source": [
        "## Data preprocessing"
      ]
    },
    {
      "cell_type": "markdown",
      "metadata": {
        "id": "idVJMn3kCPDP",
        "colab_type": "text"
      },
      "source": [
        "Apply manipulation/attention checks to filter the valid data."
      ]
    },
    {
      "cell_type": "code",
      "metadata": {
        "id": "i710exJFHzwo",
        "colab_type": "code",
        "outputId": "4c410dc2-76a9-4ec5-c376-6796fd58954e",
        "colab": {
          "base_uri": "https://localhost:8080/",
          "height": 599
        }
      },
      "source": [
        "total_participants = filtered_data.shape[0]\n",
        "native_participants = filtered_data[filtered_data['native_lang'] == 1].shape[0]\n",
        "#Manipulation check\n",
        "#Unnoticed mistakes\n",
        "manip_disc_condition_1 = (filtered_data.mistakes > NO_MISTAKES) & (filtered_data.manip_check < AGREE)\n",
        "unnoticed_mistakes_count = len(filtered_data[manip_disc_condition_1])\n",
        "manip1_df = filtered_data[~manip_disc_condition_1]\n",
        "\n",
        "#Noticing mistakes when there are no mistakes\n",
        "manip_disc_condition_2 = (manip1_df.mistakes == NO_MISTAKES) & (manip1_df.manip_check > NEUTRAL)\n",
        "noticed_wrong_mistakes_count = len(manip1_df[manip_disc_condition_2])\n",
        "manip2_df = manip1_df[~manip_disc_condition_2]\n",
        "\n",
        "#Attention check\n",
        "att_disc_condition = manip2_df.att_check != manip2_df.social_net\n",
        "discarded_att_check = len(manip2_df[att_disc_condition])\n",
        "\n",
        "att_df = manip2_df[~att_disc_condition]\n",
        "\n",
        "#No social net knowledge\n",
        "knowledge_disc_condition = att_df.sn_knowledge == IGNORES_SOCIAL_NET\n",
        "ignores_social_net = len(att_df[knowledge_disc_condition])\n",
        "\n",
        "final_data = att_df[~knowledge_disc_condition].drop(['manip_check', 'att_check', 'sn_knowledge'], axis = 1)\n",
        "\n",
        "\n",
        "gender_dict = { 1: \"Male\",\n",
        "                2: \"Female\",\n",
        "                3: \"Other\"\n",
        "              }\n",
        "mistakes_dict = {  1: \"No Mistakes\"\n",
        "                 , 2: \"Typos\"\n",
        "                 , 3: \"Grammos\"\n",
        "                }\n",
        "\n",
        "social_net_dict = {\n",
        "                  1: \"Facebook\",\n",
        "                  2: \"Twitter\",\n",
        "                  3: \"LinkedIn\"\n",
        "                  }\n",
        "\n",
        "education_dict =  {   1: \"Some High School\"\n",
        "                    , 2: \"High School\"\n",
        "                    , 3: \"Practical oriented training\"\n",
        "                    , 4: \"Bachelor's Degree\"\n",
        "                    , 5: \"Master's Degree\"\n",
        "                    , 6: \"Ph.D of higher\"\n",
        "                  }\n",
        "\n",
        "native_dict =  { 1: True,\n",
        "                 2: False\n",
        "               }\n",
        "final_data['gender'].replace(gender_dict, inplace = True)\n",
        "final_data['mistakes'].replace(mistakes_dict, inplace = True)\n",
        "final_data['social_net'].replace(social_net_dict, inplace = True)\n",
        "final_data['education'].replace(education_dict, inplace = True)\n",
        "final_data['native_lang'].replace(native_dict, inplace = True)\n",
        "\n",
        "valid_answers = total_participants - unnoticed_mistakes_count - noticed_wrong_mistakes_count - discarded_att_check - ignores_social_net\n",
        "print(\"Number of participants: \", total_participants, \"(Natives:\", native_participants, \")\")\n",
        "print(\"Valid answers: \", valid_answers)\n",
        "print(\"Unnoticed mistakes: \", unnoticed_mistakes_count)\n",
        "print(\"Noticed mistakes when there were no mistakes: \", noticed_wrong_mistakes_count)\n",
        "print(\"Participants that didn't pay attention to the social net: \", discarded_att_check)\n",
        "print(\"Participants that didn't know the given social network: \", ignores_social_net)\n",
        "\n",
        "# Data to plot\n",
        "labels = 'Valid', 'Manipulation check 1', 'Manipulation check 2', 'Attention check', 'No knowledge on SN'\n",
        "sizes = [valid_answers, unnoticed_mistakes_count, noticed_wrong_mistakes_count, discarded_att_check, ignores_social_net]\n",
        "colors = ['gold', 'yellowgreen', 'lightcoral', 'lightskyblue', 'pink']\n",
        "explode = (0.1, 0, 0, 0, 0)  # explode 1st slice\n",
        "\n",
        "# Plot\n",
        "plt.figure(figsize=(15,8))\n",
        "plt.pie(sizes, explode=explode, labels=labels, colors=colors, autopct='%1.1f%%', shadow=True, startangle=140)\n",
        "plt.title('Participants: ' + str(total_participants) + \" (Natives: \" + str(native_participants) + \")\\n\")\n",
        "\n",
        "plt.axis('equal')\n",
        "plt.show()"
      ],
      "execution_count": 0,
      "outputs": [
        {
          "output_type": "stream",
          "text": [
            "Number of participants:  119 (Natives: 39 )\n",
            "Valid answers:  58\n",
            "Unnoticed mistakes:  24\n",
            "Noticed mistakes when there were no mistakes:  8\n",
            "Participants that didn't pay attention to the social net:  23\n",
            "Participants that didn't know the given social network:  6\n"
          ],
          "name": "stdout"
        },
        {
          "output_type": "display_data",
          "data": {
            "image/png": "[encoded data removed]",
            "text/plain": [
              "<Figure size 1080x576 with 1 Axes>"
            ]
          },
          "metadata": {
            "tags": []
          }
        }
      ]
    },
    {
      "cell_type": "markdown",
      "metadata": {
        "id": "2iRXQLcO06BK",
        "colab_type": "text"
      },
      "source": [
        "# One Way ANOVA"
      ]
    },
    {
      "cell_type": "markdown",
      "metadata": {
        "id": "uwM6RFciCkZw",
        "colab_type": "text"
      },
      "source": [
        "Some stats for the 3 different conditions and their box plot"
      ]
    },
    {
      "cell_type": "code",
      "metadata": {
        "id": "7hPb1AzYlB0T",
        "colab_type": "code",
        "outputId": "2a3c4d46-a698-4a70-af8d-56ec00a8877f",
        "colab": {
          "base_uri": "https://localhost:8080/",
          "height": 642
        }
      },
      "source": [
        "print(final_data.groupby(by = ['mistakes'])['intelligence'].describe())\n",
        "#Create a boxplot\n",
        "final_data.boxplot('intelligence', by='mistakes', figsize=(12, 8))"
      ],
      "execution_count": 0,
      "outputs": [
        {
          "output_type": "stream",
          "text": [
            "             count      mean       std  min  25%  50%  75%  max\n",
            "mistakes                                                       \n",
            "Grammos       21.0  2.238095  1.091089  1.0  1.0  2.0  3.0  4.0\n",
            "No Mistakes   20.0  3.700000  0.978721  1.0  3.0  4.0  4.0  5.0\n",
            "Typos         17.0  2.588235  1.175735  1.0  2.0  2.0  3.0  5.0\n"
          ],
          "name": "stdout"
        },
        {
          "output_type": "execute_result",
          "data": {
            "text/plain": [
              "<matplotlib.axes._subplots.AxesSubplot at 0x7f69c52b3a90>"
            ]
          },
          "metadata": {
            "tags": []
          },
          "execution_count": 3
        },
        {
          "output_type": "display_data",
          "data": {
            "image/png": "[encoded data removed]",
            "text/plain": [
              "<Figure size 864x576 with 1 Axes>"
            ]
          },
          "metadata": {
            "tags": []
          }
        }
      ]
    },
    {
      "cell_type": "markdown",
      "metadata": {
        "id": "U9u61LI3DMYk",
        "colab_type": "text"
      },
      "source": [
        "Separate the three conditons:"
      ]
    },
    {
      "cell_type": "code",
      "metadata": {
        "id": "Cu2X3FDppAgQ",
        "colab_type": "code",
        "colab": {}
      },
      "source": [
        "control_group = final_data[final_data.mistakes == 'No Mistakes'].intelligence\n",
        "typos_condition = final_data[final_data.mistakes == 'Typos'].intelligence\n",
        "grammos_condition = final_data[final_data.mistakes == 'Grammos'].intelligence"
      ],
      "execution_count": 0,
      "outputs": []
    },
    {
      "cell_type": "markdown",
      "metadata": {
        "id": "ImeLNjfoz336",
        "colab_type": "text"
      },
      "source": [
        "## One way ANOVA Hypothesis"
      ]
    },
    {
      "cell_type": "markdown",
      "metadata": {
        "id": "sxl2MDH30Av6",
        "colab_type": "text"
      },
      "source": [
        "H0: The means of all mistake groups are equal\n",
        "\n",
        "H1: The mean of at least one mistake group is different"
      ]
    },
    {
      "cell_type": "markdown",
      "metadata": {
        "id": "tJQFGSbBGhYU",
        "colab_type": "text"
      },
      "source": [
        "## One Way ANOVA Assumptions"
      ]
    },
    {
      "cell_type": "markdown",
      "metadata": {
        "id": "HmGAZ4hkrmG4",
        "colab_type": "text"
      },
      "source": [
        "### 1) Normality"
      ]
    },
    {
      "cell_type": "markdown",
      "metadata": {
        "id": "mGPNVU7LDXLW",
        "colab_type": "text"
      },
      "source": [
        "Plot the three conditions to get an idea of their distributions"
      ]
    },
    {
      "cell_type": "code",
      "metadata": {
        "id": "iRsQPPDNZw2k",
        "colab_type": "code",
        "outputId": "52d4c10f-1921-4cce-cd7f-6a390904aa0e",
        "colab": {
          "base_uri": "https://localhost:8080/",
          "height": 584
        }
      },
      "source": [
        "f, ax = plt.subplots(figsize=(11,9))\n",
        "\n",
        "sns.distplot(control_group, ax=ax, label='No Mistakes')\n",
        "sns.distplot(typos_condition, ax=ax, label='Typos')\n",
        "sns.distplot(grammos_condition, ax=ax, label='Grammos')\n",
        "plt.title('Intelligence Distribution for Each Mistakes condition')\n",
        "plt.legend()"
      ],
      "execution_count": 0,
      "outputs": [
        {
          "output_type": "execute_result",
          "data": {
            "text/plain": [
              "<matplotlib.legend.Legend at 0x7f69b00b0438>"
            ]
          },
          "metadata": {
            "tags": []
          },
          "execution_count": 31
        },
        {
          "output_type": "display_data",
          "data": {
            "image/png": "[encoded data removed]",
            "text/plain": [
              "<Figure size 792x648 with 1 Axes>"
            ]
          },
          "metadata": {
            "tags": []
          }
        }
      ]
    },
    {
      "cell_type": "markdown",
      "metadata": {
        "id": "vf7KA6kqarKk",
        "colab_type": "text"
      },
      "source": [
        "The Shapiro-Wilk test can be used to check the normal distribution assumption . Null hypothesis: data is drawn from normal distribution."
      ]
    },
    {
      "cell_type": "code",
      "metadata": {
        "colab_type": "code",
        "id": "rbkhkgchUilC",
        "outputId": "2dac6521-56df-42fb-e75c-84ba7481f297",
        "colab": {
          "base_uri": "https://localhost:8080/",
          "height": 68
        }
      },
      "source": [
        "def print_shapiro(x):\n",
        "  w, pvalue = stats.shapiro(x)\n",
        "  pvalue = round(pvalue, 5)\n",
        "  result = \"p=\" + str(pvalue) + \" \" + (\"FAIL\" if pvalue < 0.05 else \"PASS\")\n",
        "  return result\n",
        "\n",
        "print(\"No Mistakes: \", print_shapiro(control_group))\n",
        "print(\"Typos: \", print_shapiro(typos_condition))\n",
        "print(\"Grammos: \", print_shapiro(grammos_condition))"
      ],
      "execution_count": 0,
      "outputs": [
        {
          "output_type": "stream",
          "text": [
            "No Mistakes:  p=0.00228 FAIL\n",
            "Typos:  p=0.12368 PASS\n",
            "Grammos:  p=0.00573 FAIL\n"
          ],
          "name": "stdout"
        }
      ]
    },
    {
      "cell_type": "markdown",
      "metadata": {
        "id": "vy-txybXacnP",
        "colab_type": "text"
      },
      "source": [
        "When the P-value is non significant, we fail to reject null hypothesis and conclude that data is drawn from normal distribution"
      ]
    },
    {
      "cell_type": "markdown",
      "metadata": {
        "id": "_KeGED08r_tP",
        "colab_type": "text"
      },
      "source": [
        "### 2) Variance homogeneity"
      ]
    },
    {
      "cell_type": "markdown",
      "metadata": {
        "id": "cEvcZZYralYV",
        "colab_type": "text"
      },
      "source": [
        "Levene test can be used to check the Homogeneity of variances. Null hypothesis: samples from populations have equal variances"
      ]
    },
    {
      "cell_type": "code",
      "metadata": {
        "id": "oQe8BKYrZBxR",
        "colab_type": "code",
        "outputId": "c2c5b652-aa13-4cc1-e4e6-c6f3dc548063",
        "colab": {
          "base_uri": "https://localhost:8080/",
          "height": 34
        }
      },
      "source": [
        "# load packages\n",
        "w, pvalue = stats.levene(control_group, \n",
        "                         typos_condition, \n",
        "                         grammos_condition)\n",
        "pvalue = round(pvalue, 5)\n",
        "print(\"p=\" + str(pvalue) + \" \" + (\"FAIL\" if pvalue < 0.05 else \"PASS\"))"
      ],
      "execution_count": 0,
      "outputs": [
        {
          "output_type": "stream",
          "text": [
            "p=0.33448 PASS\n"
          ],
          "name": "stdout"
        }
      ]
    },
    {
      "cell_type": "markdown",
      "metadata": {
        "id": "Icw1yiurZq38",
        "colab_type": "text"
      },
      "source": [
        "As the P-value is non significant, we fail to reject null hypothesis and conclude that treatments have equal variances."
      ]
    },
    {
      "cell_type": "markdown",
      "metadata": {
        "id": "6uWhWEzZuVUh",
        "colab_type": "text"
      },
      "source": [
        "### 3) Independent observations"
      ]
    },
    {
      "cell_type": "markdown",
      "metadata": {
        "id": "15Rq_SaNJHxE",
        "colab_type": "text"
      },
      "source": [
        "Satisfied with experimental design: between subjects design\n"
      ]
    },
    {
      "cell_type": "markdown",
      "metadata": {
        "id": "R5Yb48hjwUCq",
        "colab_type": "text"
      },
      "source": [
        "## Applying One-way ANOVA"
      ]
    },
    {
      "cell_type": "markdown",
      "metadata": {
        "id": "epRSCM4h1cn7",
        "colab_type": "text"
      },
      "source": [
        "### Python function"
      ]
    },
    {
      "cell_type": "markdown",
      "metadata": {
        "id": "5pyEZYWXDyib",
        "colab_type": "text"
      },
      "source": [
        "The module scipy has the function f_oneway to calculate one way ANOVA, but it does not print the ANOVA table"
      ]
    },
    {
      "cell_type": "code",
      "metadata": {
        "id": "KwAFq3yNvfHQ",
        "colab_type": "code",
        "outputId": "0eff96b7-eddc-4c70-87de-75842560bd8d",
        "colab": {
          "base_uri": "https://localhost:8080/",
          "height": 34
        }
      },
      "source": [
        "import scipy.stats as stats\n",
        "\n",
        "F, p = stats.f_oneway(control_group, \n",
        "                      typos_condition,\n",
        "                      grammos_condition)\n",
        "\n",
        "print(\"F =\", F, \"; p =\", p)"
      ],
      "execution_count": 0,
      "outputs": [
        {
          "output_type": "stream",
          "text": [
            "F = 10.067458457384042 ; p = 0.00018807201276052735\n"
          ],
          "name": "stdout"
        }
      ]
    },
    {
      "cell_type": "markdown",
      "metadata": {
        "id": "8tsBPKnA1aaC",
        "colab_type": "text"
      },
      "source": [
        "### Proof of concept: One Way ANOVA calculations"
      ]
    },
    {
      "cell_type": "markdown",
      "metadata": {
        "id": "onLkR_EHENpR",
        "colab_type": "text"
      },
      "source": [
        "We calculate One Way ANOVA by applying the given theory"
      ]
    },
    {
      "cell_type": "code",
      "metadata": {
        "id": "xijEYx0imQbk",
        "colab_type": "code",
        "outputId": "4a94968a-7068-4c3e-b2bc-b41c431bef41",
        "colab": {
          "base_uri": "https://localhost:8080/",
          "height": 68
        }
      },
      "source": [
        "groups = pd.unique(final_data.mistakes.values)\n",
        "d_data = {grp:final_data['intelligence'][final_data.mistakes == grp] for grp in groups}\n",
        "\n",
        "d_data\n",
        "k = len(pd.unique(final_data.mistakes))  # number of conditions\n",
        "N = len(final_data.values)  # Total number of participants\n",
        "\n",
        "DFbetween = k - 1\n",
        "DFwithin = N - k\n",
        "DFtotal = N - 1\n",
        "\n",
        "groups = pd.unique(final_data.mistakes.values)\n",
        "mean_per_factor_level = {grp:final_data['intelligence'][final_data.mistakes == grp].mean() for grp in groups}\n",
        "\n",
        "control_group_mean = control_group.mean()\n",
        "typos_condition_mean = typos_condition.mean()\n",
        "grammos_condition_mean = grammos_condition.mean()\n",
        "\n",
        "total_mean = final_data['intelligence'].mean()\n",
        "\n",
        "mss_within = 0\n",
        "for group in groups:\n",
        "  mss_within += sum(list(map(lambda x: (x - mean_per_factor_level[group])**2, d_data[group])))\n",
        "mss_within /= DFwithin\n",
        "\n",
        "print(\"MSS Within: \", mss_within)\n",
        "\n",
        "mss_between = 0\n",
        "for group in groups:\n",
        "  mss_between += len(final_data[final_data.mistakes == group])*(mean_per_factor_level[group] - total_mean)**2\n",
        "mss_between /= DFbetween\n",
        "\n",
        "print(\"MSS Between: \", mss_between)\n",
        "  \n",
        "F_emp = mss_between/mss_within\n",
        "p_calc = stats.f.sf(F_emp, DFbetween, DFwithin)\n",
        "print(\"F Emp =\", F_emp, \"; p calc. =\", p_calc)"
      ],
      "execution_count": 0,
      "outputs": [
        {
          "output_type": "stream",
          "text": [
            "MSS Within:  1.165948561242679\n",
            "MSS Between:  11.738138703757368\n",
            "F Emp = 10.067458457384046 ; p calc. = 0.00018807201276052656\n"
          ],
          "name": "stdout"
        }
      ]
    },
    {
      "cell_type": "markdown",
      "metadata": {
        "id": "D9e6laJTEr6g",
        "colab_type": "text"
      },
      "source": [
        "We can see that the results match with the python function"
      ]
    },
    {
      "cell_type": "markdown",
      "metadata": {
        "id": "MJyqn6PY2mQy",
        "colab_type": "text"
      },
      "source": [
        "## ANOVA One way Table"
      ]
    },
    {
      "cell_type": "markdown",
      "metadata": {
        "id": "4QsGJPu0FNEs",
        "colab_type": "text"
      },
      "source": [
        "We are able to print the ANOVA Table with the following code:"
      ]
    },
    {
      "cell_type": "code",
      "metadata": {
        "id": "OQY1c0kMSJzT",
        "colab_type": "code",
        "outputId": "8034c4a0-d97a-40e2-d94a-46e625138702",
        "colab": {
          "base_uri": "https://localhost:8080/",
          "height": 68
        }
      },
      "source": [
        "model = ols('intelligence ~ C(mistakes)', final_data).fit()\n",
        "aov_table = sm.stats.anova_lm(model, typ=2)\n",
        "print(aov_table)"
      ],
      "execution_count": 0,
      "outputs": [
        {
          "output_type": "stream",
          "text": [
            "                sum_sq    df          F    PR(>F)\n",
            "C(mistakes)  23.476277   2.0  10.067458  0.000188\n",
            "Residual     64.127171  55.0        NaN       NaN\n"
          ],
          "name": "stdout"
        }
      ]
    },
    {
      "cell_type": "markdown",
      "metadata": {
        "id": "f-OLly_lulov",
        "colab_type": "text"
      },
      "source": [
        "As the p-value is less than the significance level 0.05, we can conclude that there are significant differences between the groups"
      ]
    },
    {
      "cell_type": "markdown",
      "metadata": {
        "id": "sCWeKK1q24e9",
        "colab_type": "text"
      },
      "source": [
        "## Post hoc test"
      ]
    },
    {
      "cell_type": "markdown",
      "metadata": {
        "id": "M9kwVAuMFa5B",
        "colab_type": "text"
      },
      "source": [
        "After getting a significant result, we find where the differences are by using a Tukey's HSD post hoc test. H0: group 1 and group 2 have the same mean"
      ]
    },
    {
      "cell_type": "code",
      "metadata": {
        "id": "-J5l9vI-X_78",
        "colab_type": "code",
        "outputId": "e1bf7818-1594-4e96-8599-fc6171be3de0",
        "colab": {
          "base_uri": "https://localhost:8080/",
          "height": 153
        }
      },
      "source": [
        "# load packages\n",
        "from statsmodels.stats.multicomp import pairwise_tukeyhsd\n",
        "# perform multiple pairwise comparison (Tukey HSD)\n",
        "m_comp_res = pairwise_tukeyhsd(endog=final_data['intelligence'], groups=final_data['mistakes'], alpha=0.05)\n",
        "print(m_comp_res)"
      ],
      "execution_count": 0,
      "outputs": [
        {
          "output_type": "stream",
          "text": [
            "     Multiple Comparison of Means - Tukey HSD, FWER=0.05      \n",
            "==============================================================\n",
            "   group1      group2   meandiff p-adj   lower   upper  reject\n",
            "--------------------------------------------------------------\n",
            "    Grammos No Mistakes   1.4619  0.001  0.6493  2.2745   True\n",
            "    Grammos       Typos   0.3501 0.5785 -0.4984  1.1987  False\n",
            "No Mistakes       Typos  -1.1118 0.0079 -1.9698 -0.2538   True\n",
            "--------------------------------------------------------------\n"
          ],
          "name": "stdout"
        }
      ]
    },
    {
      "cell_type": "markdown",
      "metadata": {
        "id": "oNDJorCOF0KA",
        "colab_type": "text"
      },
      "source": [
        "The results suggest that the real difference lays on making or not making mistakes, since Typos and Grammos didn't present a significant result"
      ]
    },
    {
      "cell_type": "markdown",
      "metadata": {
        "id": "UZBMUJh1wxUu",
        "colab_type": "text"
      },
      "source": [
        "#Two way ANOVA"
      ]
    },
    {
      "cell_type": "markdown",
      "metadata": {
        "id": "ZzZrDHDsGUM1",
        "colab_type": "text"
      },
      "source": [
        "Taking the previous result into consideration, we merge Typos and Grammos into one condition: Mistakes"
      ]
    },
    {
      "cell_type": "code",
      "metadata": {
        "id": "IJVB_WMQLLU4",
        "colab_type": "code",
        "outputId": "b6f670e0-7177-4e8e-b6f6-944e75efdf8d",
        "colab": {
          "base_uri": "https://localhost:8080/",
          "height": 306
        }
      },
      "source": [
        "two_way_data = final_data.copy(deep=True)\n",
        "binary_condition = pd.Series(map(lambda x: \"No Mistakes\" if x == \"No Mistakes\" else \"Mistakes\", final_data['mistakes']))\n",
        "print(final_data.mistakes.head())\n",
        "two_way_data['mistakes'] = binary_condition.values\n",
        "two_way_data.head()"
      ],
      "execution_count": 0,
      "outputs": [
        {
          "output_type": "stream",
          "text": [
            "4         Grammos\n",
            "7           Typos\n",
            "9     No Mistakes\n",
            "12        Grammos\n",
            "16          Typos\n",
            "Name: mistakes, dtype: object\n"
          ],
          "name": "stdout"
        },
        {
          "output_type": "execute_result",
          "data": {
            "text/html": [
              "<div>\n",
              "<style scoped>\n",
              "    .dataframe tbody tr th:only-of-type {\n",
              "        vertical-align: middle;\n",
              "    }\n",
              "\n",
              "    .dataframe tbody tr th {\n",
              "        vertical-align: top;\n",
              "    }\n",
              "\n",
              "    .dataframe thead th {\n",
              "        text-align: right;\n",
              "    }\n",
              "</style>\n",
              "<table border=\"1\" class=\"dataframe\">\n",
              "  <thead>\n",
              "    <tr style=\"text-align: right;\">\n",
              "      <th></th>\n",
              "      <th>age</th>\n",
              "      <th>gender</th>\n",
              "      <th>grammar_importance</th>\n",
              "      <th>education</th>\n",
              "      <th>native_lang</th>\n",
              "      <th>intelligence</th>\n",
              "      <th>mistakes</th>\n",
              "      <th>social_net</th>\n",
              "    </tr>\n",
              "  </thead>\n",
              "  <tbody>\n",
              "    <tr>\n",
              "      <th>4</th>\n",
              "      <td>5</td>\n",
              "      <td>Male</td>\n",
              "      <td>4</td>\n",
              "      <td>Bachelor's Degree</td>\n",
              "      <td>False</td>\n",
              "      <td>3.0</td>\n",
              "      <td>Mistakes</td>\n",
              "      <td>LinkedIn</td>\n",
              "    </tr>\n",
              "    <tr>\n",
              "      <th>7</th>\n",
              "      <td>6</td>\n",
              "      <td>Male</td>\n",
              "      <td>5</td>\n",
              "      <td>Master's Degree</td>\n",
              "      <td>False</td>\n",
              "      <td>2.0</td>\n",
              "      <td>Mistakes</td>\n",
              "      <td>Facebook</td>\n",
              "    </tr>\n",
              "    <tr>\n",
              "      <th>9</th>\n",
              "      <td>6</td>\n",
              "      <td>Male</td>\n",
              "      <td>4</td>\n",
              "      <td>Bachelor's Degree</td>\n",
              "      <td>False</td>\n",
              "      <td>4.0</td>\n",
              "      <td>No Mistakes</td>\n",
              "      <td>Twitter</td>\n",
              "    </tr>\n",
              "    <tr>\n",
              "      <th>12</th>\n",
              "      <td>5</td>\n",
              "      <td>Male</td>\n",
              "      <td>3</td>\n",
              "      <td>Bachelor's Degree</td>\n",
              "      <td>False</td>\n",
              "      <td>4.0</td>\n",
              "      <td>Mistakes</td>\n",
              "      <td>Facebook</td>\n",
              "    </tr>\n",
              "    <tr>\n",
              "      <th>16</th>\n",
              "      <td>6</td>\n",
              "      <td>Male</td>\n",
              "      <td>4</td>\n",
              "      <td>Master's Degree</td>\n",
              "      <td>False</td>\n",
              "      <td>2.0</td>\n",
              "      <td>Mistakes</td>\n",
              "      <td>LinkedIn</td>\n",
              "    </tr>\n",
              "  </tbody>\n",
              "</table>\n",
              "</div>"
            ],
            "text/plain": [
              "   age gender grammar_importance  ... intelligence     mistakes  social_net\n",
              "4    5   Male                  4  ...          3.0     Mistakes    LinkedIn\n",
              "7    6   Male                  5  ...          2.0     Mistakes    Facebook\n",
              "9    6   Male                  4  ...          4.0  No Mistakes     Twitter\n",
              "12   5   Male                  3  ...          4.0     Mistakes    Facebook\n",
              "16   6   Male                  4  ...          2.0     Mistakes    LinkedIn\n",
              "\n",
              "[5 rows x 8 columns]"
            ]
          },
          "metadata": {
            "tags": []
          },
          "execution_count": 35
        }
      ]
    },
    {
      "cell_type": "markdown",
      "metadata": {
        "id": "A26GiiKmMRWA",
        "colab_type": "text"
      },
      "source": [
        "## Hypothesis"
      ]
    },
    {
      "cell_type": "markdown",
      "metadata": {
        "id": "mVL7LjueTaok",
        "colab_type": "text"
      },
      "source": [
        "H0: The means of all mistake groups are equal\n",
        "H1: The mean of at least one mistake group is different\n",
        "\n",
        "\n",
        "H0: The means of the social_net groups are equal\n",
        "H1: The mean of at least one social_net group is different\n",
        "\n",
        "\n",
        "H0: There is no interaction between the mistakes and social_nets \n",
        "H1: There is interaction between the mistakes and social_nets "
      ]
    },
    {
      "cell_type": "markdown",
      "metadata": {
        "id": "czI568tTL_cv",
        "colab_type": "text"
      },
      "source": [
        "## Assumptions"
      ]
    },
    {
      "cell_type": "markdown",
      "metadata": {
        "id": "6ovNcJ6PGozD",
        "colab_type": "text"
      },
      "source": [
        "Now we will check the assumptions for each combined condition:"
      ]
    },
    {
      "cell_type": "markdown",
      "metadata": {
        "id": "9t0SclKtQCEd",
        "colab_type": "text"
      },
      "source": [
        "### 1) Normality"
      ]
    },
    {
      "cell_type": "code",
      "metadata": {
        "id": "MI1pISCubMD_",
        "colab_type": "code",
        "outputId": "d1fb160c-f1d3-479b-b38a-16e2a3b8acb1",
        "colab": {
          "base_uri": "https://localhost:8080/",
          "height": 119
        }
      },
      "source": [
        "#Conditions\n",
        "condition_dict = {}\n",
        "for mistake_condition in [\"Mistakes\",\"No Mistakes\"]: \n",
        "  for social_net_condition in social_net_dict.values():\n",
        "    combined_condition_set = two_way_data[(two_way_data.mistakes == mistake_condition) & (two_way_data.social_net == social_net_condition)].intelligence\n",
        "    combination = mistake_condition + \"_\" +  social_net_condition\n",
        "    condition_dict.update({combination:combined_condition_set})\n",
        "\n",
        "for k,v in condition_dict.items():\n",
        "  print(k, \"(\", v.size, \")\", print_shapiro(v))"
      ],
      "execution_count": 0,
      "outputs": [
        {
          "output_type": "stream",
          "text": [
            "Mistakes_Facebook ( 14 ) p=0.09641 PASS\n",
            "Mistakes_Twitter ( 11 ) p=0.02511 FAIL\n",
            "Mistakes_LinkedIn ( 13 ) p=0.0927 PASS\n",
            "No Mistakes_Facebook ( 9 ) p=0.00118 FAIL\n",
            "No Mistakes_Twitter ( 5 ) p=0.02138 FAIL\n",
            "No Mistakes_LinkedIn ( 6 ) p=0.41504 PASS\n"
          ],
          "name": "stdout"
        }
      ]
    },
    {
      "cell_type": "markdown",
      "metadata": {
        "id": "7k-i0kcNQFZA",
        "colab_type": "text"
      },
      "source": [
        "### 2) Variance Homogeneity"
      ]
    },
    {
      "cell_type": "code",
      "metadata": {
        "id": "rIh3I6_5zbfz",
        "colab_type": "code",
        "outputId": "1470f686-f296-467c-b5e9-788525af7475",
        "colab": {
          "base_uri": "https://localhost:8080/",
          "height": 34
        }
      },
      "source": [
        "# load packages\n",
        "import scipy.stats as stats\n",
        "\n",
        "w, pvalue = stats.levene(condition_dict[\"Mistakes_Facebook\"]\n",
        "                          , condition_dict[\"Mistakes_Twitter\"]\n",
        "                          , condition_dict[\"Mistakes_LinkedIn\"]\n",
        "                          , condition_dict[\"No Mistakes_Facebook\"]\n",
        "                          , condition_dict[\"No Mistakes_Twitter\"]\n",
        "                          , condition_dict[\"No Mistakes_LinkedIn\"]\n",
        "                          )\n",
        "result = \"p=\" + str(pvalue) + \" \" + (\"FAIL\" if pvalue < 0.05 else \"PASS\")\n",
        "print(result)"
      ],
      "execution_count": 0,
      "outputs": [
        {
          "output_type": "stream",
          "text": [
            "p=0.21592399101428508 PASS\n"
          ],
          "name": "stdout"
        }
      ]
    },
    {
      "cell_type": "markdown",
      "metadata": {
        "id": "AIoXU4NgQKsK",
        "colab_type": "text"
      },
      "source": [
        "### 3) Independent observations"
      ]
    },
    {
      "cell_type": "markdown",
      "metadata": {
        "id": "Io_HrlL0G9xL",
        "colab_type": "text"
      },
      "source": [
        "Again, this condition is satisfied by the experimental design (between subjects design)"
      ]
    },
    {
      "cell_type": "markdown",
      "metadata": {
        "id": "tsr9NE3jMeQ1",
        "colab_type": "text"
      },
      "source": [
        "## Applying Two Ways ANOVA / Table"
      ]
    },
    {
      "cell_type": "markdown",
      "metadata": {
        "id": "pYqSnFYvHF25",
        "colab_type": "text"
      },
      "source": [
        "We get the Two Way ANOVA table with the following code:"
      ]
    },
    {
      "cell_type": "code",
      "metadata": {
        "colab_type": "code",
        "id": "fvB2WydHOLGt",
        "outputId": "afdbeaab-1a19-48d3-f772-78f21a23d979",
        "colab": {
          "base_uri": "https://localhost:8080/",
          "height": 173
        }
      },
      "source": [
        "# load packages\n",
        "import statsmodels.api as sm\n",
        "from statsmodels.formula.api import ols\n",
        "# Ordinary Least Squares (OLS) model\n",
        "model = ols('intelligence ~ C(mistakes) + C(social_net) + C(mistakes):C(social_net)', data = two_way_data).fit()\n",
        "anova_table = sm.stats.anova_lm(model, typ=2)\n",
        "anova_table"
      ],
      "execution_count": 0,
      "outputs": [
        {
          "output_type": "execute_result",
          "data": {
            "text/html": [
              "<div>\n",
              "<style scoped>\n",
              "    .dataframe tbody tr th:only-of-type {\n",
              "        vertical-align: middle;\n",
              "    }\n",
              "\n",
              "    .dataframe tbody tr th {\n",
              "        vertical-align: top;\n",
              "    }\n",
              "\n",
              "    .dataframe thead th {\n",
              "        text-align: right;\n",
              "    }\n",
              "</style>\n",
              "<table border=\"1\" class=\"dataframe\">\n",
              "  <thead>\n",
              "    <tr style=\"text-align: right;\">\n",
              "      <th></th>\n",
              "      <th>sum_sq</th>\n",
              "      <th>df</th>\n",
              "      <th>F</th>\n",
              "      <th>PR(&gt;F)</th>\n",
              "    </tr>\n",
              "  </thead>\n",
              "  <tbody>\n",
              "    <tr>\n",
              "      <th>C(mistakes)</th>\n",
              "      <td>20.943305</td>\n",
              "      <td>1.0</td>\n",
              "      <td>17.635550</td>\n",
              "      <td>0.000105</td>\n",
              "    </tr>\n",
              "    <tr>\n",
              "      <th>C(social_net)</th>\n",
              "      <td>3.233694</td>\n",
              "      <td>2.0</td>\n",
              "      <td>1.361485</td>\n",
              "      <td>0.265263</td>\n",
              "    </tr>\n",
              "    <tr>\n",
              "      <th>C(mistakes):C(social_net)</th>\n",
              "      <td>0.292040</td>\n",
              "      <td>2.0</td>\n",
              "      <td>0.122958</td>\n",
              "      <td>0.884557</td>\n",
              "    </tr>\n",
              "    <tr>\n",
              "      <th>Residual</th>\n",
              "      <td>61.753213</td>\n",
              "      <td>52.0</td>\n",
              "      <td>NaN</td>\n",
              "      <td>NaN</td>\n",
              "    </tr>\n",
              "  </tbody>\n",
              "</table>\n",
              "</div>"
            ],
            "text/plain": [
              "                              sum_sq    df          F    PR(>F)\n",
              "C(mistakes)                20.943305   1.0  17.635550  0.000105\n",
              "C(social_net)               3.233694   2.0   1.361485  0.265263\n",
              "C(mistakes):C(social_net)   0.292040   2.0   0.122958  0.884557\n",
              "Residual                   61.753213  52.0        NaN       NaN"
            ]
          },
          "metadata": {
            "tags": []
          },
          "execution_count": 23
        }
      ]
    },
    {
      "cell_type": "markdown",
      "metadata": {
        "id": "qjHZjeOoxh_f",
        "colab_type": "text"
      },
      "source": [
        "# ANCOVA"
      ]
    },
    {
      "cell_type": "markdown",
      "metadata": {
        "id": "Nv3-9aC9DZzl",
        "colab_type": "text"
      },
      "source": [
        "You can do a basic ANCOVA using formulas with OLS. If you have an outcome y, categorical variable z and continuous variable x, you can just use y ~ z + x (if z is coded as numbers use y ~ c(z) + x).\n"
      ]
    },
    {
      "cell_type": "markdown",
      "metadata": {
        "id": "_VvKGyTxxliF",
        "colab_type": "text"
      },
      "source": [
        "An analysis of covariance (ANCOVA) is appropriate when examining for differences in a continuous dependent variable between groups, while controlling for the effect of additional author justinvariables. The “C” in ANCOVA denotes that a covariate is being inputted into the model, and this covariate examination can be applied to a between-subjects design, a within-subjects design, or a mixed-model design. ANCOVAs are frequently used in experimental studies when the researcher wants to account for the effects of an antecedent (control) variable."
      ]
    },
    {
      "cell_type": "code",
      "metadata": {
        "id": "Jaw26_EBxkmW",
        "colab_type": "code",
        "outputId": "94807622-9d71-4478-ffe8-5a61df282780",
        "colab": {
          "base_uri": "https://localhost:8080/",
          "height": 142
        }
      },
      "source": [
        "model = ols('intelligence ~ C(mistakes) + age', data=final_data).fit()\n",
        "anova_table = sm.stats.anova_lm(model, typ=2)\n",
        "anova_table"
      ],
      "execution_count": 0,
      "outputs": [
        {
          "output_type": "execute_result",
          "data": {
            "text/html": [
              "<div>\n",
              "<style scoped>\n",
              "    .dataframe tbody tr th:only-of-type {\n",
              "        vertical-align: middle;\n",
              "    }\n",
              "\n",
              "    .dataframe tbody tr th {\n",
              "        vertical-align: top;\n",
              "    }\n",
              "\n",
              "    .dataframe thead th {\n",
              "        text-align: right;\n",
              "    }\n",
              "</style>\n",
              "<table border=\"1\" class=\"dataframe\">\n",
              "  <thead>\n",
              "    <tr style=\"text-align: right;\">\n",
              "      <th></th>\n",
              "      <th>sum_sq</th>\n",
              "      <th>df</th>\n",
              "      <th>F</th>\n",
              "      <th>PR(&gt;F)</th>\n",
              "    </tr>\n",
              "  </thead>\n",
              "  <tbody>\n",
              "    <tr>\n",
              "      <th>C(mistakes)</th>\n",
              "      <td>25.958609</td>\n",
              "      <td>2.0</td>\n",
              "      <td>12.336506</td>\n",
              "      <td>0.000049</td>\n",
              "    </tr>\n",
              "    <tr>\n",
              "      <th>age</th>\n",
              "      <td>14.678217</td>\n",
              "      <td>8.0</td>\n",
              "      <td>1.743910</td>\n",
              "      <td>0.113008</td>\n",
              "    </tr>\n",
              "    <tr>\n",
              "      <th>Residual</th>\n",
              "      <td>49.448954</td>\n",
              "      <td>47.0</td>\n",
              "      <td>NaN</td>\n",
              "      <td>NaN</td>\n",
              "    </tr>\n",
              "  </tbody>\n",
              "</table>\n",
              "</div>"
            ],
            "text/plain": [
              "                sum_sq    df          F    PR(>F)\n",
              "C(mistakes)  25.958609   2.0  12.336506  0.000049\n",
              "age          14.678217   8.0   1.743910  0.113008\n",
              "Residual     49.448954  47.0        NaN       NaN"
            ]
          },
          "metadata": {
            "tags": []
          },
          "execution_count": 28
        }
      ]
    },
    {
      "cell_type": "code",
      "metadata": {
        "id": "xB4E_hDARNeP",
        "colab_type": "code",
        "outputId": "c2e8b806-81c6-4f9a-d938-af691f2164ba",
        "colab": {
          "base_uri": "https://localhost:8080/",
          "height": 299
        }
      },
      "source": [
        "X = np.array((final_data)['age'],dtype='float')\n",
        "Y = np.array((final_data)['intelligence'],dtype='float')\n",
        "\n",
        "coef = np.polyfit(X,Y,1)\n",
        "poly1d_fn = np.poly1d(coef) \n",
        "plt.plot(X,Y, 'yo', X, poly1d_fn(X))\n"
      ],
      "execution_count": 0,
      "outputs": [
        {
          "output_type": "execute_result",
          "data": {
            "text/plain": [
              "[<matplotlib.lines.Line2D at 0x7f69aece1908>,\n",
              " <matplotlib.lines.Line2D at 0x7f69aece1a20>]"
            ]
          },
          "metadata": {
            "tags": []
          },
          "execution_count": 27
        },
        {
          "output_type": "display_data",
          "data": {
            "image/png": "[encoded data removed]",
            "text/plain": [
              "<Figure size 432x288 with 1 Axes>"
            ]
          },
          "metadata": {
            "tags": []
          }
        }
      ]
    },
    {
      "cell_type": "code",
      "metadata": {
        "id": "BpT-KeyzGc0A",
        "colab_type": "code",
        "outputId": "802d7270-06c9-4dc6-86d3-6e211ab8c520",
        "colab": {
          "base_uri": "https://localhost:8080/",
          "height": 299
        }
      },
      "source": [
        "X_nm = np.array((final_data[final_data.mistakes == 'No Mistakes'])['age'],dtype='float')\n",
        "Y_nm = np.array((final_data[final_data.mistakes == 'No Mistakes'])['intelligence'],dtype='float')\n",
        "\n",
        "X_t = np.array((final_data[final_data.mistakes == 'Typos'])['age'],dtype='float')\n",
        "Y_t = np.array((final_data[final_data.mistakes == 'Typos'])['intelligence'],dtype='float')\n",
        "\n",
        "X_g = np.array((final_data[final_data.mistakes == 'Grammos'])['age'],dtype='float')\n",
        "Y_g = np.array((final_data[final_data.mistakes == 'Grammos'])['intelligence'],dtype='float')\n",
        "\n",
        "fig1, (ax1, ax2, ax3) = plt.subplots(nrows=1, ncols=3) # two axes on figure\n",
        "\n",
        "coef = np.polyfit(X_nm,Y_nm,1)\n",
        "poly1d_fn = np.poly1d(coef) \n",
        "ax1.plot(X_nm,Y_nm, 'yo', X_nm, poly1d_fn(X_nm))\n",
        "\n",
        "coef = np.polyfit(X_t,Y_t,1)\n",
        "poly1d_fn = np.poly1d(coef) \n",
        "ax2.plot(X_t,Y_t, 'yo', X_t, poly1d_fn(X_t))\n",
        "\n",
        "coef = np.polyfit(X_g,Y_g,1)\n",
        "poly1d_fn = np.poly1d(coef) \n",
        "ax3.plot(X_g,Y_g, 'yo', X_g, poly1d_fn(X_g))\n"
      ],
      "execution_count": 0,
      "outputs": [
        {
          "output_type": "execute_result",
          "data": {
            "text/plain": [
              "[<matplotlib.lines.Line2D at 0x7f072474e940>,\n",
              " <matplotlib.lines.Line2D at 0x7f072475f7b8>]"
            ]
          },
          "metadata": {
            "tags": []
          },
          "execution_count": 5
        },
        {
          "output_type": "display_data",
          "data": {
            "image/png": "[encoded data removed]",
            "text/plain": [
              "<Figure size 432x288 with 3 Axes>"
            ]
          },
          "metadata": {
            "tags": []
          }
        }
      ]
    },
    {
      "cell_type": "code",
      "metadata": {
        "id": "FycmWEdmQq8T",
        "colab_type": "code",
        "outputId": "95fc52c1-1ddb-4065-ebbb-892f016e2e14",
        "colab": {
          "base_uri": "https://localhost:8080/",
          "height": 204
        }
      },
      "source": [
        "import matplotlib.pyplot as plt\n",
        "from mpl_toolkits.mplot3d import Axes3D\n",
        "from sklearn import datasets\n",
        "from sklearn.decomposition import PCA\n",
        "import pandas as pd\n",
        "\n",
        "# import some data to play with\n",
        "iris = datasets.load_iris()\n",
        "column_names=['sepal_length', 'sepal_width', 'petal_length', 'petal_width']\n",
        "df = pd.DataFrame(iris.data, columns=column_names)\n",
        "df['target'] = iris['target']\n",
        "#df.drop(['sepal_width', 'petal_length', 'petal_width'], axis = 1, inplace = True)\n",
        "df.sample(5)"
      ],
      "execution_count": 0,
      "outputs": [
        {
          "output_type": "execute_result",
          "data": {
            "text/html": [
              "<div>\n",
              "<style scoped>\n",
              "    .dataframe tbody tr th:only-of-type {\n",
              "        vertical-align: middle;\n",
              "    }\n",
              "\n",
              "    .dataframe tbody tr th {\n",
              "        vertical-align: top;\n",
              "    }\n",
              "\n",
              "    .dataframe thead th {\n",
              "        text-align: right;\n",
              "    }\n",
              "</style>\n",
              "<table border=\"1\" class=\"dataframe\">\n",
              "  <thead>\n",
              "    <tr style=\"text-align: right;\">\n",
              "      <th></th>\n",
              "      <th>sepal_length</th>\n",
              "      <th>sepal_width</th>\n",
              "      <th>petal_length</th>\n",
              "      <th>petal_width</th>\n",
              "      <th>target</th>\n",
              "    </tr>\n",
              "  </thead>\n",
              "  <tbody>\n",
              "    <tr>\n",
              "      <th>79</th>\n",
              "      <td>5.7</td>\n",
              "      <td>2.6</td>\n",
              "      <td>3.5</td>\n",
              "      <td>1.0</td>\n",
              "      <td>1</td>\n",
              "    </tr>\n",
              "    <tr>\n",
              "      <th>53</th>\n",
              "      <td>5.5</td>\n",
              "      <td>2.3</td>\n",
              "      <td>4.0</td>\n",
              "      <td>1.3</td>\n",
              "      <td>1</td>\n",
              "    </tr>\n",
              "    <tr>\n",
              "      <th>107</th>\n",
              "      <td>7.3</td>\n",
              "      <td>2.9</td>\n",
              "      <td>6.3</td>\n",
              "      <td>1.8</td>\n",
              "      <td>2</td>\n",
              "    </tr>\n",
              "    <tr>\n",
              "      <th>24</th>\n",
              "      <td>4.8</td>\n",
              "      <td>3.4</td>\n",
              "      <td>1.9</td>\n",
              "      <td>0.2</td>\n",
              "      <td>0</td>\n",
              "    </tr>\n",
              "    <tr>\n",
              "      <th>3</th>\n",
              "      <td>4.6</td>\n",
              "      <td>3.1</td>\n",
              "      <td>1.5</td>\n",
              "      <td>0.2</td>\n",
              "      <td>0</td>\n",
              "    </tr>\n",
              "  </tbody>\n",
              "</table>\n",
              "</div>"
            ],
            "text/plain": [
              "     sepal_length  sepal_width  petal_length  petal_width  target\n",
              "79            5.7          2.6           3.5          1.0       1\n",
              "53            5.5          2.3           4.0          1.3       1\n",
              "107           7.3          2.9           6.3          1.8       2\n",
              "24            4.8          3.4           1.9          0.2       0\n",
              "3             4.6          3.1           1.5          0.2       0"
            ]
          },
          "metadata": {
            "tags": []
          },
          "execution_count": 6
        }
      ]
    },
    {
      "cell_type": "code",
      "metadata": {
        "id": "g4168x6CS0RS",
        "colab_type": "code",
        "outputId": "c6f4ed95-ac95-4d7c-90fe-f64a12da5f4e",
        "colab": {
          "base_uri": "https://localhost:8080/",
          "height": 299
        }
      },
      "source": [
        "X = np.array((df)['petal_length'],dtype='float')\n",
        "Y = np.array((df)['sepal_length'],dtype='float')\n",
        "\n",
        "coef = np.polyfit(X,Y,1)\n",
        "poly1d_fn = np.poly1d(coef) \n",
        "plt.plot(X,Y, 'yo', X, poly1d_fn(X))"
      ],
      "execution_count": 0,
      "outputs": [
        {
          "output_type": "execute_result",
          "data": {
            "text/plain": [
              "[<matplotlib.lines.Line2D at 0x7f072083b2e8>,\n",
              " <matplotlib.lines.Line2D at 0x7f072083b400>]"
            ]
          },
          "metadata": {
            "tags": []
          },
          "execution_count": 7
        },
        {
          "output_type": "display_data",
          "data": {
            "image/png": "[encoded data removed]",
            "text/plain": [
              "<Figure size 432x288 with 1 Axes>"
            ]
          },
          "metadata": {
            "tags": []
          }
        }
      ]
    },
    {
      "cell_type": "code",
      "metadata": {
        "id": "eRi2FjyGQnMF",
        "colab_type": "code",
        "outputId": "e5d5504b-f335-4c04-abd0-447580b4b015",
        "colab": {
          "base_uri": "https://localhost:8080/",
          "height": 300
        }
      },
      "source": [
        "X_nm = np.array((df[df.target == 0])['sepal_width'],dtype='float')\n",
        "Y_nm = np.array((df[df.target == 0])['sepal_length'],dtype='float')\n",
        "\n",
        "X_t = np.array((df[df.target == 1])['sepal_width'],dtype='float')\n",
        "Y_t = np.array((df[df.target == 1])['sepal_length'],dtype='float')\n",
        "\n",
        "X_g = np.array((df[df.target == 2])['sepal_width'],dtype='float')\n",
        "Y_g = np.array((df[df.target == 2])['sepal_length'],dtype='float')\n",
        "\n",
        "fig1, (ax1, ax2, ax3) = plt.subplots(nrows=1, ncols=3) # two axes on figure\n",
        "\n",
        "coef = np.polyfit(X_nm,Y_nm,1)\n",
        "poly1d_fn = np.poly1d(coef) \n",
        "ax1.plot(X_nm,Y_nm, 'yo', X_nm, poly1d_fn(X_nm))\n",
        "\n",
        "coef = np.polyfit(X_t,Y_t,1)\n",
        "poly1d_fn = np.poly1d(coef) \n",
        "ax2.plot(X_t,Y_t, 'yo', X_t, poly1d_fn(X_t))\n",
        "\n",
        "coef = np.polyfit(X_g,Y_g,1)\n",
        "poly1d_fn = np.poly1d(coef) \n",
        "ax3.plot(X_g,Y_g, 'yo', X_g, poly1d_fn(X_g))\n"
      ],
      "execution_count": 0,
      "outputs": [
        {
          "output_type": "execute_result",
          "data": {
            "text/plain": [
              "[<matplotlib.lines.Line2D at 0x7f0720794668>,\n",
              " <matplotlib.lines.Line2D at 0x7f07207a24e0>]"
            ]
          },
          "metadata": {
            "tags": []
          },
          "execution_count": 8
        },
        {
          "output_type": "display_data",
          "data": {
            "image/png": "[encoded data removed]",
            "text/plain": [
              "<Figure size 432x288 with 3 Axes>"
            ]
          },
          "metadata": {
            "tags": []
          }
        }
      ]
    }
  ]
}